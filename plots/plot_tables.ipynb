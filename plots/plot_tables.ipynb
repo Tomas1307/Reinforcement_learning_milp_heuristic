{
 "cells": [
  {
   "cell_type": "code",
   "execution_count": 1,
   "metadata": {},
   "outputs": [],
   "source": [
    "import pandas as pd\n",
    "import os\n",
    "import numpy as np"
   ]
  },
  {
   "cell_type": "code",
   "execution_count": 12,
   "metadata": {},
   "outputs": [
    {
     "name": "stdout",
     "output_type": "stream",
     "text": [
      "Archivo combinado guardado en: hyperparameter_results/individual\\instancia_test_system_10_grid_complete.txt\n"
     ]
    }
   ],
   "source": [
    "import os\n",
    "import pandas as pd\n",
    "\n",
    "# Directorio con los archivos\n",
    "dir_path = \"hyperparameter_results/individual\"\n",
    "\n",
    "# Prefijo de archivos a unir\n",
    "prefix = \"instancia_test_system_10_grid\"\n",
    "\n",
    "# Lista para almacenar los DataFrames\n",
    "dataframes = []\n",
    "\n",
    "# Recorremos todos los archivos en el directorio\n",
    "for file in os.listdir(dir_path):\n",
    "    if file.startswith(prefix) and file.endswith(\".txt\"):\n",
    "        file_path = os.path.join(dir_path, file)\n",
    "        df = pd.read_csv(file_path)\n",
    "        dataframes.append(df)\n",
    "\n",
    "# Concatenar todos los dataframes y eliminar duplicados\n",
    "df_all = pd.concat(dataframes).drop_duplicates()\n",
    "\n",
    "# Guardar el resultado\n",
    "output_file = os.path.join(dir_path, \"instancia_test_system_10_grid_complete.txt\")\n",
    "df_all.to_csv(output_file, index=False)\n",
    "\n",
    "print(f\"Archivo combinado guardado en: {output_file}\")\n"
   ]
  },
  {
   "cell_type": "code",
   "execution_count": 10,
   "metadata": {},
   "outputs": [],
   "source": [
    "output_file = os.path.join(dir_path, \"instancia_test_system_10_grid_complete.csv\")\n",
    "df_all.to_csv(output_file, index=False)\n"
   ]
  }
 ],
 "metadata": {
  "kernelspec": {
   "display_name": "Python 3",
   "language": "python",
   "name": "python3"
  },
  "language_info": {
   "codemirror_mode": {
    "name": "ipython",
    "version": 3
   },
   "file_extension": ".py",
   "mimetype": "text/x-python",
   "name": "python",
   "nbconvert_exporter": "python",
   "pygments_lexer": "ipython3",
   "version": "3.11.9"
  }
 },
 "nbformat": 4,
 "nbformat_minor": 2
}
